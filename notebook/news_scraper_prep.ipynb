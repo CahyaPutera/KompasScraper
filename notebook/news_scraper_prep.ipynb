{
 "cells": [
  {
   "cell_type": "markdown",
   "metadata": {},
   "source": [
    "# NEWS SCRAPER MINI PROJECT - DATA PREPARATION\n",
    "\n",
    "> This notebook focuses solely on preparing scraped news article data for the Sentiment Analysis project requirements.\n",
    ">\n",
    "> The content of this notebook will consists of 3 parts:\n",
    ">\n",
    "> - **1. IMPORT LIBRARIES** - Importing the necessary libraries.\n",
    "> - **2. OVERVIEW** - Conducting initial data sanity checks (info, null values, etc.).\n",
    "> - **3. DATA CLEANING** - Carrying out the main data cleansing process, from checking the data type to adjusting the text to a stemmed format.\n",
    ">\n",
    "> In summary, this notebook serves as a crucial step in the data preparation process for this mini project. By importing the necessary libraries, conducting an initial data overview, and performing data cleaning, we can ensure that the data is in a suitable format for further process."
   ]
  },
  {
   "cell_type": "markdown",
   "metadata": {},
   "source": [
    "## IMPORT LIBRARIES"
   ]
  },
  {
   "cell_type": "code",
   "execution_count": 1,
   "metadata": {},
   "outputs": [],
   "source": [
    "# data wrangling\n",
    "import numpy as np\n",
    "import pandas as pd\n",
    "import string\n",
    "import re\n",
    "import html2text\n",
    "from tqdm import tqdm\n",
    "from bs4 import BeautifulSoup\n",
    "\n",
    "# nlp wrangling\n",
    "import nltk\n",
    "from nltk.tokenize import sent_tokenize, word_tokenize\n",
    "from nltk.corpus import stopwords\n",
    "from Sastrawi.Stemmer.StemmerFactory import StemmerFactory\n",
    "from sklearn.feature_extraction.text import TfidfVectorizer\n",
    "\n",
    "# warning\n",
    "import warnings\n",
    "warnings.filterwarnings('ignore')\n",
    "warnings.filterwarnings(action='ignore', category=FutureWarning)"
   ]
  },
  {
   "cell_type": "markdown",
   "metadata": {},
   "source": [
    "## OVERVIEW\n",
    "> After importing the necessary libraries, we will check the initial data state, summary and general data overview.\\\n",
    "> In this section, we will breakdown the data and try to see whether the data is clean enough to move to the next process."
   ]
  },
  {
   "cell_type": "code",
   "execution_count": 2,
   "metadata": {},
   "outputs": [],
   "source": [
    "# load data\n",
    "df = pd.read_csv(\"data/kompas_news_article.csv\")"
   ]
  },
  {
   "cell_type": "code",
   "execution_count": 3,
   "metadata": {},
   "outputs": [
    {
     "data": {
      "text/html": [
       "<div>\n",
       "<style scoped>\n",
       "    .dataframe tbody tr th:only-of-type {\n",
       "        vertical-align: middle;\n",
       "    }\n",
       "\n",
       "    .dataframe tbody tr th {\n",
       "        vertical-align: top;\n",
       "    }\n",
       "\n",
       "    .dataframe thead th {\n",
       "        text-align: right;\n",
       "    }\n",
       "</style>\n",
       "<table border=\"1\" class=\"dataframe\">\n",
       "  <thead>\n",
       "    <tr style=\"text-align: right;\">\n",
       "      <th></th>\n",
       "      <th>author</th>\n",
       "      <th>publish_date</th>\n",
       "      <th>news_article_raw</th>\n",
       "      <th>news_article_semi</th>\n",
       "    </tr>\n",
       "  </thead>\n",
       "  <tbody>\n",
       "    <tr>\n",
       "      <th>0</th>\n",
       "      <td>Tito Hilmawan Reditya</td>\n",
       "      <td>Kompas.com - 26/04/2023, 18:15 WIB</td>\n",
       "      <td>[&lt;p&gt;&lt;strong&gt;LONDON, KOMPAS.com&lt;/strong&gt; - Inva...</td>\n",
       "      <td>LONDON, KOMPAS.com - Invasi China ke Taiwan di...</td>\n",
       "    </tr>\n",
       "    <tr>\n",
       "      <th>1</th>\n",
       "      <td>Aditya Jaya Iswara</td>\n",
       "      <td>Kompas.com - 26/04/2023, 17:35 WIB</td>\n",
       "      <td>[&lt;p&gt;&lt;strong&gt;BANGKOK, KOMPAS.com&lt;/strong&gt; - Pol...</td>\n",
       "      <td>BANGKOK, KOMPAS.com - Polisi Thailand pada Sel...</td>\n",
       "    </tr>\n",
       "    <tr>\n",
       "      <th>2</th>\n",
       "      <td>Danur Lambang Pristiandaru</td>\n",
       "      <td>Kompas.com - 26/04/2023, 16:01 WIB</td>\n",
       "      <td>[&lt;p&gt;&lt;strong&gt;&lt;/strong&gt;&lt;/p&gt;, &lt;p&gt;&lt;strong&gt;PRETORIA...</td>\n",
       "      <td>PRETORIA, KOMPAS.com – Presiden Afrika Selatan...</td>\n",
       "    </tr>\n",
       "    <tr>\n",
       "      <th>3</th>\n",
       "      <td>Aditya Jaya Iswara</td>\n",
       "      <td>Kompas.com - 26/04/2023, 15:34 WIB</td>\n",
       "      <td>[&lt;p&gt;&lt;strong&gt;WELLINGTON, KOMPAS.com&lt;/strong&gt; - ...</td>\n",
       "      <td>WELLINGTON, KOMPAS.com - Mantan Perdana Menter...</td>\n",
       "    </tr>\n",
       "    <tr>\n",
       "      <th>4</th>\n",
       "      <td>Aditya Jaya Iswara</td>\n",
       "      <td>Kompas.com - 26/04/2023, 14:48 WIB</td>\n",
       "      <td>[&lt;p&gt;&lt;strong&gt;MOSKWA, KOMPAS.com&lt;/strong&gt; - &lt;a c...</td>\n",
       "      <td>MOSKWA, KOMPAS.com - Rusia mengganti KFC yang ...</td>\n",
       "    </tr>\n",
       "  </tbody>\n",
       "</table>\n",
       "</div>"
      ],
      "text/plain": [
       "                       author                        publish_date  \\\n",
       "0       Tito Hilmawan Reditya  Kompas.com - 26/04/2023, 18:15 WIB   \n",
       "1          Aditya Jaya Iswara  Kompas.com - 26/04/2023, 17:35 WIB   \n",
       "2  Danur Lambang Pristiandaru  Kompas.com - 26/04/2023, 16:01 WIB   \n",
       "3          Aditya Jaya Iswara  Kompas.com - 26/04/2023, 15:34 WIB   \n",
       "4          Aditya Jaya Iswara  Kompas.com - 26/04/2023, 14:48 WIB   \n",
       "\n",
       "                                    news_article_raw  \\\n",
       "0  [<p><strong>LONDON, KOMPAS.com</strong> - Inva...   \n",
       "1  [<p><strong>BANGKOK, KOMPAS.com</strong> - Pol...   \n",
       "2  [<p><strong></strong></p>, <p><strong>PRETORIA...   \n",
       "3  [<p><strong>WELLINGTON, KOMPAS.com</strong> - ...   \n",
       "4  [<p><strong>MOSKWA, KOMPAS.com</strong> - <a c...   \n",
       "\n",
       "                                   news_article_semi  \n",
       "0  LONDON, KOMPAS.com - Invasi China ke Taiwan di...  \n",
       "1  BANGKOK, KOMPAS.com - Polisi Thailand pada Sel...  \n",
       "2  PRETORIA, KOMPAS.com – Presiden Afrika Selatan...  \n",
       "3  WELLINGTON, KOMPAS.com - Mantan Perdana Menter...  \n",
       "4  MOSKWA, KOMPAS.com - Rusia mengganti KFC yang ...  "
      ]
     },
     "execution_count": 3,
     "metadata": {},
     "output_type": "execute_result"
    }
   ],
   "source": [
    "# show head\n",
    "df.head()"
   ]
  },
  {
   "cell_type": "code",
   "execution_count": 4,
   "metadata": {},
   "outputs": [
    {
     "name": "stdout",
     "output_type": "stream",
     "text": [
      "<class 'pandas.core.frame.DataFrame'>\n",
      "RangeIndex: 415 entries, 0 to 414\n",
      "Data columns (total 4 columns):\n",
      " #   Column             Non-Null Count  Dtype \n",
      "---  ------             --------------  ----- \n",
      " 0   author             415 non-null    object\n",
      " 1   publish_date       415 non-null    object\n",
      " 2   news_article_raw   415 non-null    object\n",
      " 3   news_article_semi  415 non-null    object\n",
      "dtypes: object(4)\n",
      "memory usage: 13.1+ KB\n"
     ]
    }
   ],
   "source": [
    "# show info\n",
    "df.info()"
   ]
  },
  {
   "cell_type": "code",
   "execution_count": 5,
   "metadata": {},
   "outputs": [
    {
     "data": {
      "text/plain": [
       "author               0\n",
       "publish_date         0\n",
       "news_article_raw     0\n",
       "news_article_semi    0\n",
       "dtype: int64"
      ]
     },
     "execution_count": 5,
     "metadata": {},
     "output_type": "execute_result"
    }
   ],
   "source": [
    "# check null\n",
    "df.isna().sum()"
   ]
  },
  {
   "cell_type": "markdown",
   "metadata": {},
   "source": [
    "> Seems that the data is already 100% proper for the next steps."
   ]
  },
  {
   "cell_type": "markdown",
   "metadata": {},
   "source": [
    "## DATA CLEANING\n",
    "\n",
    "> In this section we will clean the data, so that it may fit the purpose of the project itself (sentiment analysis). \\\n",
    "> Meaning that the news article column  must \"fit\" the nlp project requirements, in this case we will try to get the article to a *stemmed format*.\n",
    "\n",
    "> Therefore, the data cleaning will be separated into several steps:\n",
    "> 1. Adjusting **`publish_date`** column to a **`pd.datetime`** format.\n",
    "> \n",
    "> 2. Manipulating the string in the **`news_article_raw`** column using **`regular expression`**, **`html2text`** library, and other string manipulation methods.\n",
    ">\n",
    "> 3. Using basic nlp disciplines *(casefolding, tokeninzing, stopword removal)* to prepare the string to a proper stemmed format.\n",
    ">\n",
    "> 4. Lastly export all dataframe to a csv format for the next step."
   ]
  },
  {
   "cell_type": "code",
   "execution_count": 6,
   "metadata": {},
   "outputs": [],
   "source": [
    "# adjust publish date to datetime format\n",
    "pub_fix = []\n",
    "for i in df[\"publish_date\"]:\n",
    "    temp = str(i).strip(\"Kompas.com - \")\n",
    "    pub_fix.append(re.sub(\" WIB\", \"\", temp))"
   ]
  },
  {
   "cell_type": "code",
   "execution_count": 7,
   "metadata": {},
   "outputs": [],
   "source": [
    "# add adjusted publish date to dataframe\n",
    "df[\"publish_date_adj\"] = pub_fix\n",
    "df[\"publish_date_adj\"] = pd.to_datetime(df[\"publish_date_adj\"])"
   ]
  },
  {
   "cell_type": "code",
   "execution_count": 8,
   "metadata": {},
   "outputs": [
    {
     "data": {
      "text/html": [
       "<div>\n",
       "<style scoped>\n",
       "    .dataframe tbody tr th:only-of-type {\n",
       "        vertical-align: middle;\n",
       "    }\n",
       "\n",
       "    .dataframe tbody tr th {\n",
       "        vertical-align: top;\n",
       "    }\n",
       "\n",
       "    .dataframe thead th {\n",
       "        text-align: right;\n",
       "    }\n",
       "</style>\n",
       "<table border=\"1\" class=\"dataframe\">\n",
       "  <thead>\n",
       "    <tr style=\"text-align: right;\">\n",
       "      <th></th>\n",
       "      <th>author</th>\n",
       "      <th>publish_date</th>\n",
       "      <th>news_article_raw</th>\n",
       "      <th>news_article_semi</th>\n",
       "      <th>publish_date_adj</th>\n",
       "    </tr>\n",
       "  </thead>\n",
       "  <tbody>\n",
       "    <tr>\n",
       "      <th>0</th>\n",
       "      <td>Tito Hilmawan Reditya</td>\n",
       "      <td>Kompas.com - 26/04/2023, 18:15 WIB</td>\n",
       "      <td>[&lt;p&gt;&lt;strong&gt;LONDON, KOMPAS.com&lt;/strong&gt; - Inva...</td>\n",
       "      <td>LONDON, KOMPAS.com - Invasi China ke Taiwan di...</td>\n",
       "      <td>2023-04-26 18:15:00</td>\n",
       "    </tr>\n",
       "    <tr>\n",
       "      <th>1</th>\n",
       "      <td>Aditya Jaya Iswara</td>\n",
       "      <td>Kompas.com - 26/04/2023, 17:35 WIB</td>\n",
       "      <td>[&lt;p&gt;&lt;strong&gt;BANGKOK, KOMPAS.com&lt;/strong&gt; - Pol...</td>\n",
       "      <td>BANGKOK, KOMPAS.com - Polisi Thailand pada Sel...</td>\n",
       "      <td>2023-04-26 17:35:00</td>\n",
       "    </tr>\n",
       "    <tr>\n",
       "      <th>2</th>\n",
       "      <td>Danur Lambang Pristiandaru</td>\n",
       "      <td>Kompas.com - 26/04/2023, 16:01 WIB</td>\n",
       "      <td>[&lt;p&gt;&lt;strong&gt;&lt;/strong&gt;&lt;/p&gt;, &lt;p&gt;&lt;strong&gt;PRETORIA...</td>\n",
       "      <td>PRETORIA, KOMPAS.com – Presiden Afrika Selatan...</td>\n",
       "      <td>2023-04-26 16:01:00</td>\n",
       "    </tr>\n",
       "    <tr>\n",
       "      <th>3</th>\n",
       "      <td>Aditya Jaya Iswara</td>\n",
       "      <td>Kompas.com - 26/04/2023, 15:34 WIB</td>\n",
       "      <td>[&lt;p&gt;&lt;strong&gt;WELLINGTON, KOMPAS.com&lt;/strong&gt; - ...</td>\n",
       "      <td>WELLINGTON, KOMPAS.com - Mantan Perdana Menter...</td>\n",
       "      <td>2023-04-26 15:34:00</td>\n",
       "    </tr>\n",
       "    <tr>\n",
       "      <th>4</th>\n",
       "      <td>Aditya Jaya Iswara</td>\n",
       "      <td>Kompas.com - 26/04/2023, 14:48 WIB</td>\n",
       "      <td>[&lt;p&gt;&lt;strong&gt;MOSKWA, KOMPAS.com&lt;/strong&gt; - &lt;a c...</td>\n",
       "      <td>MOSKWA, KOMPAS.com - Rusia mengganti KFC yang ...</td>\n",
       "      <td>2023-04-26 14:48:00</td>\n",
       "    </tr>\n",
       "  </tbody>\n",
       "</table>\n",
       "</div>"
      ],
      "text/plain": [
       "                       author                        publish_date  \\\n",
       "0       Tito Hilmawan Reditya  Kompas.com - 26/04/2023, 18:15 WIB   \n",
       "1          Aditya Jaya Iswara  Kompas.com - 26/04/2023, 17:35 WIB   \n",
       "2  Danur Lambang Pristiandaru  Kompas.com - 26/04/2023, 16:01 WIB   \n",
       "3          Aditya Jaya Iswara  Kompas.com - 26/04/2023, 15:34 WIB   \n",
       "4          Aditya Jaya Iswara  Kompas.com - 26/04/2023, 14:48 WIB   \n",
       "\n",
       "                                    news_article_raw  \\\n",
       "0  [<p><strong>LONDON, KOMPAS.com</strong> - Inva...   \n",
       "1  [<p><strong>BANGKOK, KOMPAS.com</strong> - Pol...   \n",
       "2  [<p><strong></strong></p>, <p><strong>PRETORIA...   \n",
       "3  [<p><strong>WELLINGTON, KOMPAS.com</strong> - ...   \n",
       "4  [<p><strong>MOSKWA, KOMPAS.com</strong> - <a c...   \n",
       "\n",
       "                                   news_article_semi    publish_date_adj  \n",
       "0  LONDON, KOMPAS.com - Invasi China ke Taiwan di... 2023-04-26 18:15:00  \n",
       "1  BANGKOK, KOMPAS.com - Polisi Thailand pada Sel... 2023-04-26 17:35:00  \n",
       "2  PRETORIA, KOMPAS.com – Presiden Afrika Selatan... 2023-04-26 16:01:00  \n",
       "3  WELLINGTON, KOMPAS.com - Mantan Perdana Menter... 2023-04-26 15:34:00  \n",
       "4  MOSKWA, KOMPAS.com - Rusia mengganti KFC yang ... 2023-04-26 14:48:00  "
      ]
     },
     "execution_count": 8,
     "metadata": {},
     "output_type": "execute_result"
    }
   ],
   "source": [
    "# show data\n",
    "df.head()"
   ]
  },
  {
   "cell_type": "code",
   "execution_count": 9,
   "metadata": {},
   "outputs": [],
   "source": [
    "# clean news article raw, examine the pattern first\n",
    "sample = df[\"news_article_raw\"][0]"
   ]
  },
  {
   "cell_type": "code",
   "execution_count": 10,
   "metadata": {
    "collapsed": true,
    "jupyter": {
     "outputs_hidden": true
    }
   },
   "outputs": [
    {
     "name": "stdout",
     "output_type": "stream",
     "text": [
      "[\n",
      "<p>\n",
      " <strong>\n",
      "  LONDON, KOMPAS.com\n",
      " </strong>\n",
      " - Invasi China ke Taiwan disebut akan menghancurkan perdagangan dunia.\n",
      "</p>\n",
      ",\n",
      "<p>\n",
      " \"Jarak tidak akan memberikan perlindungan terhadap pukulan dahsyat yang tak terelakkan terhadap ekonomi global,\" kata Menteri Luar Negeri Inggris, James Cleverly.\n",
      "</p>\n",
      ",\n",
      "<p>\n",
      " Dia memperingatkan dalam pidato tentang hubungan Inggris dengan Beijing.\n",
      "</p>\n",
      ",\n",
      "<p>\n",
      " <strong>\n",
      "  Baca juga:\n",
      "  <a class=\"inner-link-baca-juga\" href=\"https://www.kompas.com/global/read/2023/04/25/121500270/perubahan-kebijakan-twitter-picu-lonjakan-propaganda-oleh-rusia-dan-china\" target=\"_self\">\n",
      "   Perubahan Kebijakan Twitter Picu Lonjakan Propaganda oleh Rusia dan China\n",
      "  </a>\n",
      " </strong>\n",
      "</p>\n",
      ",\n",
      "<p>\n",
      " Sambutan ini berbeda dari apa yang disampaikan Presiden Perancis Emmanuel Macron untuk menjauhkan Eropa dari potensi keterlibatan AS dalam konflik di masa depan atas Taiwan.\n",
      "</p>\n",
      ",\n",
      "<p>\n",
      " Macron dengan tegas mendukung keberlanjutan keterlibatan yang dijaga dengan Beijing.\n",
      "</p>\n",
      ",\n",
      "<p>\n",
      " Tapi, dilansir dari\n",
      " <em>\n",
      "  Guardian\n",
      " </em>\n",
      " , Cleverly mengatakan bahwa tidak ada negara yang dapat melindungi diri dari dampak perang di Taiwan.\n",
      "</p>\n",
      ",\n",
      "<p>\n",
      " Dia menambahkan bahwa dia ngeri memikirkan kehancuran finansial dan manusia yang akan terjadi.\n",
      "</p>\n",
      ",\n",
      "<p>\n",
      " Mendesak tidak ada pihak yang mengambil tindakan sepihak untuk mengubah status quo, dia menegaskan relevansi Taiwan dengan kepentingan Inggris.\n",
      "</p>\n",
      ",\n",
      "<p>\n",
      " “Sekitar setengah dari kapal kontainer dunia melewati perairan vital ini (Selat Taiwan) setiap tahun, sarat dengan barang-barang yang menuju ke Eropa dan penjuru dunia yang jauh,\" ujarnya.\n",
      "</p>\n",
      ",\n",
      "<p>\n",
      " \"Taiwan adalah negara demokrasi yang berkembang dan mata rantai penting dalam rantai pasokan global, terutama untuk semikonduktor tingkat lanjut,\" tambahnya.\n",
      "</p>\n",
      ",\n",
      "<p>\n",
      " <strong>\n",
      "  Baca juga:\n",
      "  <a class=\"inner-link-baca-juga\" href=\"https://www.kompas.com/global/read/2023/04/24/165800670/pernyataan-dubes-china-bikin-heboh-eropa-lalu-diklarifikasi\" target=\"_self\">\n",
      "   Pernyataan Dubes China Bikin Heboh Eropa, lalu Diklarifikasi\n",
      "  </a>\n",
      " </strong>\n",
      "</p>\n",
      ",\n",
      "<p>\n",
      " China yang dia akui mewakili tradisi otoriter yang kejam yang sama sekali bertentangan dengan tradisi Inggris.\n",
      "</p>\n",
      ",\n",
      "<p id=\"jxadslotparent_OSMLayer_1682509746699\">\n",
      " <div class=\"jxfhhelper\" style=\"height: 1px; width: 100%; position: relative; display: inline-block; background: transparent; overflow: hidden;\">\n",
      " </div>\n",
      " <div id=\"jxOutstreamOSMLayer_1682509746699\" style=\"text-align: center; width: 100%; height: 400px;\">\n",
      "  <div id=\"fjx_1682509746704_65\" style=\"height: 100%;\">\n",
      "   <div id=\"ifrjx_1682509746704_65\" style=\"width: 100%; border: 0px; text-align: center; height: 100%;\">\n",
      "    <div id=\"jxm_jx_1682509746704_65\" style=\"position: relative; margin: auto; max-width: 300px; height: 100%;\">\n",
      "     <div id=\"jxb_jx_1682509746704_65\" style=\"position: relative; display: inline-block; background: transparent; overflow: hidden; max-width: 300px; height: 100%; width: 100%;\">\n",
      "      <div id=\"jxbs_jx_1682509746704_65\" style=\"width: 300px; height: auto; transform: scale(1) translate3d(0px, 0px, 0px) translateY(0px); transform-origin: 0px 0px 0px;\">\n",
      "       <div id=\"jxbf_jx_1682509746704_65\" style=\"width: 300px; height: 600px;\">\n",
      "        <div id=\"jxifr_jx_1682509746704_65\" style=\"position: absolute; left: 0px; top: 0px; background-color: white; border: none; width: 300px; height: 600px;\">\n",
      "         <a href=\"https://traid.jixie.io/sync/ck?igr=0&amp;url=aHR0cHM6Ly9wbGF5LmtvbXBhcy5jb20vZ2FtZXMvc3RhcnQvMjEva2F0YS1raXRhP3NvdXJjZT1qaXhpZSZtZWRpdW09MzAweDYwMCZjYW1wYWlnbj1rYXRha2l0YV9zdGFydA==&amp;client_id=5851bd10-e428-11ed-9f67-f5554f8abd28&amp;cid=2572&amp;cpid=377&amp;sid=1682509000-5851bd10-e428-11ed-9f67-f5554f8abd28~1682509744&amp;cohort=--~--&amp;source=osm&amp;engine=hb.2.1152&amp;adtype=display&amp;device=desktop&amp;domain=www.kompas.com&amp;pageurl=https%3A%2F%2Fwww.kompas.com%2Fglobal%2Fread%2F2023%2F04%2F26%2F181500370%2Fkonsekuensi-serius-jika-china-serang-taiwan-diungkap-menlu-inggris&amp;ctrlbkt=007&amp;unit=1000008-iT3q5Ci4Ry\" style=\"border-bottom: none;\" target=\"_blank\">\n",
      "          <img class=\"jxImg\" src=\"https://creatives.jixie.media/KG116cVoTd/377/2572/300x600_1663653496.jpeg\"/>\n",
      "         </a>\n",
      "        </div>\n",
      "       </div>\n",
      "      </div>\n",
      "     </div>\n",
      "     <div id=\"jxp_jx_1682509746704_65\" style=\"position: absolute; top: 0px; left: 0px; height: 1px;\">\n",
      "      <img src=\"https://traid.jixie.io/sync/ad?jxlb=1&amp;&amp;cid=2572&amp;cpid=377&amp;dncfc=1&amp;source=osm&amp;adtype=display&amp;engine=hb.2.1152&amp;client_id=5851bd10-e428-11ed-9f67-f5554f8abd28&amp;offerid=na&amp;unit=1000008-iT3q5Ci4Ry&amp;pageurl=https%3A%2F%2Fwww.kompas.com%2Fglobal%2Fread%2F2023%2F04%2F26%2F181500370%2Fkonsekuensi-serius-jika-china-serang-taiwan-diungkap-menlu-inggris&amp;domain=www.kompas.com&amp;sid=1682509000-5851bd10-e428-11ed-9f67-f5554f8abd28~1682509744&amp;cohort=--~--&amp;device=desktop&amp;ctrlbkt=007&amp;cpm=0&amp;jxbidid=undefined&amp;adunit=default&amp;sessionts=1682509744995&amp;jxub=2&amp;jxtok=3040021e1999939119bf0d93a4ff3011771555cb9e364ccbda6e20fbdc2987406282021e12f98ecbaab402ddf9eb4bdcba0fbe58d802f9594784322034791053e0b1&amp;tsready=1682509744995&amp;tsjsrun=0&amp;action=loadpixel\" style=\"width: 1px; height: 1px;\"/>\n",
      "     </div>\n",
      "    </div>\n",
      "   </div>\n",
      "  </div>\n",
      " </div>\n",
      "</p>\n",
      ",\n",
      "<p>\n",
      " “Tetapi kami memiliki kewajiban kepada generasi mendatang untuk terlibat karena jika tidak, kami akan gagal dalam tugas kami untuk mempertahankan dan membentuk tatanan internasional,\" ujarnya.\n",
      "</p>\n",
      ",\n",
      "<p>\n",
      " <strong>\n",
      "  Baca juga:\n",
      "  <a class=\"inner-link-baca-juga\" href=\"https://www.kompas.com/global/read/2023/04/24/161300970/china-singapura-akan-gelar-latihan-militer-bersama-ini-armada-yang\" target=\"_self\">\n",
      "   China-Singapura Akan Gelar Latihan Militer Bersama, Ini Armada yang Dikerahkan\n",
      "  </a>\n",
      " </strong>\n",
      "</p>\n",
      ",\n",
      "<p>\n",
      " \"Mengabaikan tantangan itu tidak akan menjadi tanda kekuatan tetapi kelemahan,\" tambahnya.\n",
      "</p>\n",
      ",\n",
      "<p>\n",
      "</p>\n",
      "]\n",
      "\n"
     ]
    }
   ],
   "source": [
    "# preview and examine pattern\n",
    "print(BeautifulSoup(sample, 'html.parser').prettify())"
   ]
  },
  {
   "cell_type": "code",
   "execution_count": 11,
   "metadata": {},
   "outputs": [
    {
     "name": "stdout",
     "output_type": "stream",
     "text": [
      "['<strong>LONDON, KOMPAS.com</strong> - Invasi China ke Taiwan disebut akan menghancurkan perdagangan dunia.', '\"Jarak tidak akan memberikan perlindungan terhadap pukulan dahsyat yang tak terelakkan terhadap ekonomi global,\" kata Menteri Luar Negeri Inggris, James Cleverly.', 'Dia memperingatkan dalam pidato tentang hubungan Inggris dengan Beijing.', '<strong>Baca juga: <a class=\"inner-link-baca-juga\" href=\"https://www.kompas.com/global/read/2023/04/25/121500270/perubahan-kebijakan-twitter-picu-lonjakan-propaganda-oleh-rusia-dan-china\" target=\"_self\">Perubahan Kebijakan Twitter Picu Lonjakan Propaganda oleh Rusia dan China</a></strong>', 'Sambutan ini berbeda dari apa yang disampaikan Presiden Perancis Emmanuel Macron untuk menjauhkan Eropa dari potensi keterlibatan AS dalam konflik di masa depan atas Taiwan.', 'Macron dengan tegas mendukung keberlanjutan keterlibatan yang dijaga dengan Beijing.', 'Tapi, dilansir dari <em>Guardian</em>, Cleverly mengatakan bahwa tidak ada negara yang dapat melindungi diri dari dampak perang di Taiwan.', 'Dia menambahkan bahwa dia ngeri memikirkan kehancuran finansial dan manusia yang akan terjadi.', 'Mendesak tidak ada pihak yang mengambil tindakan sepihak untuk mengubah status quo, dia menegaskan relevansi Taiwan dengan kepentingan Inggris.', '“Sekitar setengah dari kapal kontainer dunia melewati perairan vital ini (Selat Taiwan) setiap tahun, sarat dengan barang-barang yang menuju ke Eropa dan penjuru dunia yang jauh,\" ujarnya.', '\"Taiwan adalah negara demokrasi yang berkembang dan mata rantai penting dalam rantai pasokan global, terutama untuk semikonduktor tingkat lanjut,\" tambahnya.', '<strong>Baca juga: <a class=\"inner-link-baca-juga\" href=\"https://www.kompas.com/global/read/2023/04/24/165800670/pernyataan-dubes-china-bikin-heboh-eropa-lalu-diklarifikasi\" target=\"_self\">Pernyataan Dubes China Bikin Heboh Eropa, lalu Diklarifikasi</a></strong>', 'China yang dia akui mewakili tradisi otoriter yang kejam yang sama sekali bertentangan dengan tradisi Inggris.', '“Tetapi kami memiliki kewajiban kepada generasi mendatang untuk terlibat karena jika tidak, kami akan gagal dalam tugas kami untuk mempertahankan dan membentuk tatanan internasional,\" ujarnya.', '<strong>Baca juga: <a class=\"inner-link-baca-juga\" href=\"https://www.kompas.com/global/read/2023/04/24/161300970/china-singapura-akan-gelar-latihan-militer-bersama-ini-armada-yang\" target=\"_self\">China-Singapura Akan Gelar Latihan Militer Bersama, Ini Armada yang Dikerahkan</a></strong>', '\"Mengabaikan tantangan itu tidak akan menjadi tanda kekuatan tetapi kelemahan,\" tambahnya.', '']\n"
     ]
    }
   ],
   "source": [
    "# define regex pattern\n",
    "pattern = r\"<p>(.*?)</p>\"\n",
    "\n",
    "# extract string between <p> and </p> tags\n",
    "sample_text = re.findall(pattern, sample)\n",
    "\n",
    "# preview the temp result\n",
    "print(sample_text)"
   ]
  },
  {
   "cell_type": "code",
   "execution_count": 12,
   "metadata": {},
   "outputs": [
    {
     "name": "stdout",
     "output_type": "stream",
     "text": [
      "<strong>LONDON, KOMPAS.com</strong> - Invasi China ke Taiwan disebut akan menghancurkan perdagangan dunia. \"Jarak tidak akan memberikan perlindungan terhadap pukulan dahsyat yang tak terelakkan terhadap ekonomi global,\" kata Menteri Luar Negeri Inggris, James Cleverly. Dia memperingatkan dalam pidato tentang hubungan Inggris dengan Beijing. <strong>Baca juga: <a class=\"inner-link-baca-juga\" href=\"https://www.kompas.com/global/read/2023/04/25/121500270/perubahan-kebijakan-twitter-picu-lonjakan-propaganda-oleh-rusia-dan-china\" target=\"_self\">Perubahan Kebijakan Twitter Picu Lonjakan Propaganda oleh Rusia dan China</a></strong> Sambutan ini berbeda dari apa yang disampaikan Presiden Perancis Emmanuel Macron untuk menjauhkan Eropa dari potensi keterlibatan AS dalam konflik di masa depan atas Taiwan. Macron dengan tegas mendukung keberlanjutan keterlibatan yang dijaga dengan Beijing. Tapi, dilansir dari <em>Guardian</em>, Cleverly mengatakan bahwa tidak ada negara yang dapat melindungi diri dari dampak perang di Taiwan. Dia menambahkan bahwa dia ngeri memikirkan kehancuran finansial dan manusia yang akan terjadi. Mendesak tidak ada pihak yang mengambil tindakan sepihak untuk mengubah status quo, dia menegaskan relevansi Taiwan dengan kepentingan Inggris. “Sekitar setengah dari kapal kontainer dunia melewati perairan vital ini (Selat Taiwan) setiap tahun, sarat dengan barang-barang yang menuju ke Eropa dan penjuru dunia yang jauh,\" ujarnya. \"Taiwan adalah negara demokrasi yang berkembang dan mata rantai penting dalam rantai pasokan global, terutama untuk semikonduktor tingkat lanjut,\" tambahnya. <strong>Baca juga: <a class=\"inner-link-baca-juga\" href=\"https://www.kompas.com/global/read/2023/04/24/165800670/pernyataan-dubes-china-bikin-heboh-eropa-lalu-diklarifikasi\" target=\"_self\">Pernyataan Dubes China Bikin Heboh Eropa, lalu Diklarifikasi</a></strong> China yang dia akui mewakili tradisi otoriter yang kejam yang sama sekali bertentangan dengan tradisi Inggris. “Tetapi kami memiliki kewajiban kepada generasi mendatang untuk terlibat karena jika tidak, kami akan gagal dalam tugas kami untuk mempertahankan dan membentuk tatanan internasional,\" ujarnya. <strong>Baca juga: <a class=\"inner-link-baca-juga\" href=\"https://www.kompas.com/global/read/2023/04/24/161300970/china-singapura-akan-gelar-latihan-militer-bersama-ini-armada-yang\" target=\"_self\">China-Singapura Akan Gelar Latihan Militer Bersama, Ini Armada yang Dikerahkan</a></strong> \"Mengabaikan tantangan itu tidak akan menjadi tanda kekuatan tetapi kelemahan,\" tambahnya. \n"
     ]
    }
   ],
   "source": [
    "# join temp result to a sentence\n",
    "sample_text = ' '.join(sample_text[:])\n",
    "\n",
    "# preview the result\n",
    "print(sample_text)"
   ]
  },
  {
   "cell_type": "code",
   "execution_count": 13,
   "metadata": {},
   "outputs": [
    {
     "name": "stdout",
     "output_type": "stream",
     "text": [
      "**LONDON, KOMPAS.com** \\- Invasi China ke Taiwan disebut akan menghancurkan\n",
      "perdagangan dunia. \"Jarak tidak akan memberikan perlindungan terhadap pukulan\n",
      "dahsyat yang tak terelakkan terhadap ekonomi global,\" kata Menteri Luar Negeri\n",
      "Inggris, James Cleverly. Dia memperingatkan dalam pidato tentang hubungan\n",
      "Inggris dengan Beijing. **Baca juga:Perubahan Kebijakan Twitter Picu Lonjakan\n",
      "Propaganda oleh Rusia dan China** Sambutan ini berbeda dari apa yang\n",
      "disampaikan Presiden Perancis Emmanuel Macron untuk menjauhkan Eropa dari\n",
      "potensi keterlibatan AS dalam konflik di masa depan atas Taiwan. Macron dengan\n",
      "tegas mendukung keberlanjutan keterlibatan yang dijaga dengan Beijing. Tapi,\n",
      "dilansir dari _Guardian_ , Cleverly mengatakan bahwa tidak ada negara yang\n",
      "dapat melindungi diri dari dampak perang di Taiwan. Dia menambahkan bahwa dia\n",
      "ngeri memikirkan kehancuran finansial dan manusia yang akan terjadi. Mendesak\n",
      "tidak ada pihak yang mengambil tindakan sepihak untuk mengubah status quo, dia\n",
      "menegaskan relevansi Taiwan dengan kepentingan Inggris. “Sekitar setengah dari\n",
      "kapal kontainer dunia melewati perairan vital ini (Selat Taiwan) setiap tahun,\n",
      "sarat dengan barang-barang yang menuju ke Eropa dan penjuru dunia yang jauh,\"\n",
      "ujarnya. \"Taiwan adalah negara demokrasi yang berkembang dan mata rantai\n",
      "penting dalam rantai pasokan global, terutama untuk semikonduktor tingkat\n",
      "lanjut,\" tambahnya. **Baca juga:Pernyataan Dubes China Bikin Heboh Eropa, lalu\n",
      "Diklarifikasi** China yang dia akui mewakili tradisi otoriter yang kejam yang\n",
      "sama sekali bertentangan dengan tradisi Inggris. “Tetapi kami memiliki\n",
      "kewajiban kepada generasi mendatang untuk terlibat karena jika tidak, kami\n",
      "akan gagal dalam tugas kami untuk mempertahankan dan membentuk tatanan\n",
      "internasional,\" ujarnya. **Baca juga:China-Singapura Akan Gelar Latihan\n",
      "Militer Bersama, Ini Armada yang Dikerahkan** \"Mengabaikan tantangan itu tidak\n",
      "akan menjadi tanda kekuatan tetapi kelemahan,\" tambahnya.\n",
      "\n",
      "\n"
     ]
    }
   ],
   "source": [
    "# use html2text to clean html format\n",
    "text_maker = html2text.HTML2Text()\n",
    "text_maker.ignore_links = True\n",
    "text_maker.bypass_tables = True\n",
    "sample_text = text_maker.handle(sample_text)\n",
    "\n",
    "# preview html text result\n",
    "print(sample_text)"
   ]
  },
  {
   "cell_type": "code",
   "execution_count": 14,
   "metadata": {},
   "outputs": [],
   "source": [
    "# remove text enclosed in square brackets, asterisks or underscores\n",
    "sample_text = re.sub(r'\\[.*?\\]', '', sample_text)\n",
    "sample_text = re.sub(r'(\\*|_).*?(\\*|_)', '', sample_text).replace(\" \\- \", \" \")"
   ]
  },
  {
   "cell_type": "code",
   "execution_count": 15,
   "metadata": {},
   "outputs": [
    {
     "name": "stdout",
     "output_type": "stream",
     "text": [
      "LONDON, KOMPAS.com Invasi China ke Taiwan disebut akan menghancurkan\n",
      "perdagangan dunia. \"Jarak tidak akan memberikan perlindungan terhadap pukulan\n",
      "dahsyat yang tak terelakkan terhadap ekonomi global,\" kata Menteri Luar Negeri\n",
      "Inggris, James Cleverly. Dia memperingatkan dalam pidato tentang hubungan\n",
      "Inggris dengan Beijing. Baca juga:Perubahan Kebijakan Twitter Picu Lonjakan\n",
      "Propaganda oleh Rusia dan China Sambutan ini berbeda dari apa yang\n",
      "disampaikan Presiden Perancis Emmanuel Macron untuk menjauhkan Eropa dari\n",
      "potensi keterlibatan AS dalam konflik di masa depan atas Taiwan. Macron dengan\n",
      "tegas mendukung keberlanjutan keterlibatan yang dijaga dengan Beijing. Tapi,\n",
      "dilansir dari  , Cleverly mengatakan bahwa tidak ada negara yang\n",
      "dapat melindungi diri dari dampak perang di Taiwan. Dia menambahkan bahwa dia\n",
      "ngeri memikirkan kehancuran finansial dan manusia yang akan terjadi. Mendesak\n",
      "tidak ada pihak yang mengambil tindakan sepihak untuk mengubah status quo, dia\n",
      "menegaskan relevansi Taiwan dengan kepentingan Inggris. “Sekitar setengah dari\n",
      "kapal kontainer dunia melewati perairan vital ini (Selat Taiwan) setiap tahun,\n",
      "sarat dengan barang-barang yang menuju ke Eropa dan penjuru dunia yang jauh,\"\n",
      "ujarnya. \"Taiwan adalah negara demokrasi yang berkembang dan mata rantai\n",
      "penting dalam rantai pasokan global, terutama untuk semikonduktor tingkat\n",
      "lanjut,\" tambahnya. Baca juga:Pernyataan Dubes China Bikin Heboh Eropa, lalu\n",
      "Diklarifikasi China yang dia akui mewakili tradisi otoriter yang kejam yang\n",
      "sama sekali bertentangan dengan tradisi Inggris. “Tetapi kami memiliki\n",
      "kewajiban kepada generasi mendatang untuk terlibat karena jika tidak, kami\n",
      "akan gagal dalam tugas kami untuk mempertahankan dan membentuk tatanan\n",
      "internasional,\" ujarnya. Baca juga:China-Singapura Akan Gelar Latihan\n",
      "Militer Bersama, Ini Armada yang Dikerahkan \"Mengabaikan tantangan itu tidak\n",
      "akan menjadi tanda kekuatan tetapi kelemahan,\" tambahnya.\n",
      "\n",
      "\n"
     ]
    }
   ],
   "source": [
    "# preview final result\n",
    "print(sample_text)"
   ]
  },
  {
   "cell_type": "code",
   "execution_count": 16,
   "metadata": {},
   "outputs": [],
   "source": [
    "# use function to simplify process\n",
    "def remove_html(html_text):\n",
    "    \n",
    "    # define regex pattern\n",
    "    pattern = r\"<p>(.*?)</p>\"\n",
    "    \n",
    "    # extract string between <p> and </p> tags, and join result to a sentence\n",
    "    find = re.findall(pattern, html_text)\n",
    "    text_ = ' '.join(find[:])\n",
    "    \n",
    "    # use html2text to clean html format\n",
    "    text_maker = html2text.HTML2Text()\n",
    "    text_maker.ignore_links = True\n",
    "    text_maker.bypass_tables = True\n",
    "    html_text = text_maker.handle(text_)\n",
    "    \n",
    "    # remove text enclosed in square brackets, asterisks or underscores\n",
    "    temp_result = re.sub(r'\\[.*?\\]', '', html_text)\n",
    "    result  = re.sub(r'(\\*|_).*?(\\*|_)', '', temp_result).replace(\" \\- \", \" \")\n",
    "    \n",
    "    # return result\n",
    "    return result"
   ]
  },
  {
   "cell_type": "code",
   "execution_count": 17,
   "metadata": {},
   "outputs": [],
   "source": [
    "# loop through all df to clean html format\n",
    "cleaned_article=[]\n",
    "for i in df[\"news_article_raw\"]:\n",
    "    cleaned_article.append(remove_html(i))"
   ]
  },
  {
   "cell_type": "code",
   "execution_count": 18,
   "metadata": {},
   "outputs": [],
   "source": [
    "# add new column to df to store cleaned html article\n",
    "df[\"news_article_html_clean\"] = cleaned_article"
   ]
  },
  {
   "cell_type": "code",
   "execution_count": 19,
   "metadata": {},
   "outputs": [],
   "source": [
    "# function to preprocess text\n",
    "# clean text from any symbols, punctuation, etc and casefolding\n",
    "def text_casefold(text):\n",
    "    text = re.sub(r\", KOMPAS.com\", \"\", text) # remove Kompas.com words\n",
    "    text = re.sub(r\"Baca\", \"\", text) # remove Baca words\n",
    "    text = re.sub(r\"Baca Juga:\", \"\", text) # remove Baca Juga words\n",
    "    text = re.sub(r\"#[A-Za-z0-9]+\", \"\", text) # remove hashtag\n",
    "    text = re.sub(r\"@[A-Za-z0-9]+\", \"\", text) # remove @\n",
    "    text = re.sub(r\"http\\S+\", \"\", text) # remove links\n",
    "    text = re.sub(r\"[0-9]+\", \"\", text) # remove numbers    \n",
    "    text = text.replace(\"\\n\", \" \") # replace new line into space\n",
    "    text = text.translate(str.maketrans(\"\", \"\", string.punctuation)) # remove all punctuations\n",
    "    text = text.strip(\" \") # remove characters space from both left and right text\n",
    "    text = text.lower() \n",
    "    return text    \n",
    "\n",
    "# splitting string in the text into a list of tokens\n",
    "def text_tokenize(text):\n",
    "    text = word_tokenize(text) \n",
    "    return text\n",
    "\n",
    "# removing stopwords in a text using nltk\n",
    "def text_stopwords(text): \n",
    "    listStopwords = set(stopwords.words(\"indonesian\"))\n",
    "    filtered = []\n",
    "    for word in text:\n",
    "        if word not in listStopwords:\n",
    "            filtered.append(word)\n",
    "    text = filtered \n",
    "    return text\n",
    "\n",
    "# reducing a word to its word stem using sastrawi, and convert to sentences\n",
    "def text_stemming(text): \n",
    "    factory = StemmerFactory()\n",
    "    stemmer = factory.create_stemmer()\n",
    "    list_word = [stemmer.stem(word) for word in text]\n",
    "    sentence = \" \".join(word for word in list_word)\n",
    "    return sentence"
   ]
  },
  {
   "cell_type": "code",
   "execution_count": 20,
   "metadata": {},
   "outputs": [
    {
     "name": "stdout",
     "output_type": "stream",
     "text": [
      "london invasi china ke taiwan disebut akan menghancurkan perdagangan dunia jarak tidak akan memberikan perlindungan terhadap pukulan dahsyat yang tak terelakkan terhadap ekonomi global kata menteri luar negeri inggris james cleverly dia memperingatkan dalam pidato tentang hubungan inggris dengan beijing  jugaperubahan kebijakan twitter picu lonjakan propaganda oleh rusia dan china sambutan ini berbeda dari apa yang disampaikan presiden perancis emmanuel macron untuk menjauhkan eropa dari potensi keterlibatan as dalam konflik di masa depan atas taiwan macron dengan tegas mendukung keberlanjutan keterlibatan yang dijaga dengan beijing tapi dilansir dari   cleverly mengatakan bahwa tidak ada negara yang dapat melindungi diri dari dampak perang di taiwan dia menambahkan bahwa dia ngeri memikirkan kehancuran finansial dan manusia yang akan terjadi mendesak tidak ada pihak yang mengambil tindakan sepihak untuk mengubah status quo dia menegaskan relevansi taiwan dengan kepentingan inggris “sekitar setengah dari kapal kontainer dunia melewati perairan vital ini selat taiwan setiap tahun sarat dengan barangbarang yang menuju ke eropa dan penjuru dunia yang jauh ujarnya taiwan adalah negara demokrasi yang berkembang dan mata rantai penting dalam rantai pasokan global terutama untuk semikonduktor tingkat lanjut tambahnya  jugapernyataan dubes china bikin heboh eropa lalu diklarifikasi china yang dia akui mewakili tradisi otoriter yang kejam yang sama sekali bertentangan dengan tradisi inggris “tetapi kami memiliki kewajiban kepada generasi mendatang untuk terlibat karena jika tidak kami akan gagal dalam tugas kami untuk mempertahankan dan membentuk tatanan internasional ujarnya  jugachinasingapura akan gelar latihan militer bersama ini armada yang dikerahkan mengabaikan tantangan itu tidak akan menjadi tanda kekuatan tetapi kelemahan tambahnya\n"
     ]
    }
   ],
   "source": [
    "# preview text (cleaning and casefold)\n",
    "text_sample = text_casefold(df[\"news_article_html_clean\"][0])\n",
    "print(text_sample)"
   ]
  },
  {
   "cell_type": "code",
   "execution_count": 21,
   "metadata": {},
   "outputs": [
    {
     "name": "stdout",
     "output_type": "stream",
     "text": [
      "['london', 'invasi', 'china', 'ke', 'taiwan', 'disebut', 'akan', 'menghancurkan', 'perdagangan', 'dunia', 'jarak', 'tidak', 'akan', 'memberikan', 'perlindungan', 'terhadap', 'pukulan', 'dahsyat', 'yang', 'tak', 'terelakkan', 'terhadap', 'ekonomi', 'global', 'kata', 'menteri', 'luar', 'negeri', 'inggris', 'james', 'cleverly', 'dia', 'memperingatkan', 'dalam', 'pidato', 'tentang', 'hubungan', 'inggris', 'dengan', 'beijing', 'jugaperubahan', 'kebijakan', 'twitter', 'picu', 'lonjakan', 'propaganda', 'oleh', 'rusia', 'dan', 'china', 'sambutan', 'ini', 'berbeda', 'dari', 'apa', 'yang', 'disampaikan', 'presiden', 'perancis', 'emmanuel', 'macron', 'untuk', 'menjauhkan', 'eropa', 'dari', 'potensi', 'keterlibatan', 'as', 'dalam', 'konflik', 'di', 'masa', 'depan', 'atas', 'taiwan', 'macron', 'dengan', 'tegas', 'mendukung', 'keberlanjutan', 'keterlibatan', 'yang', 'dijaga', 'dengan', 'beijing', 'tapi', 'dilansir', 'dari', 'cleverly', 'mengatakan', 'bahwa', 'tidak', 'ada', 'negara', 'yang', 'dapat', 'melindungi', 'diri', 'dari', 'dampak', 'perang', 'di', 'taiwan', 'dia', 'menambahkan', 'bahwa', 'dia', 'ngeri', 'memikirkan', 'kehancuran', 'finansial', 'dan', 'manusia', 'yang', 'akan', 'terjadi', 'mendesak', 'tidak', 'ada', 'pihak', 'yang', 'mengambil', 'tindakan', 'sepihak', 'untuk', 'mengubah', 'status', 'quo', 'dia', 'menegaskan', 'relevansi', 'taiwan', 'dengan', 'kepentingan', 'inggris', '“', 'sekitar', 'setengah', 'dari', 'kapal', 'kontainer', 'dunia', 'melewati', 'perairan', 'vital', 'ini', 'selat', 'taiwan', 'setiap', 'tahun', 'sarat', 'dengan', 'barangbarang', 'yang', 'menuju', 'ke', 'eropa', 'dan', 'penjuru', 'dunia', 'yang', 'jauh', 'ujarnya', 'taiwan', 'adalah', 'negara', 'demokrasi', 'yang', 'berkembang', 'dan', 'mata', 'rantai', 'penting', 'dalam', 'rantai', 'pasokan', 'global', 'terutama', 'untuk', 'semikonduktor', 'tingkat', 'lanjut', 'tambahnya', 'jugapernyataan', 'dubes', 'china', 'bikin', 'heboh', 'eropa', 'lalu', 'diklarifikasi', 'china', 'yang', 'dia', 'akui', 'mewakili', 'tradisi', 'otoriter', 'yang', 'kejam', 'yang', 'sama', 'sekali', 'bertentangan', 'dengan', 'tradisi', 'inggris', '“', 'tetapi', 'kami', 'memiliki', 'kewajiban', 'kepada', 'generasi', 'mendatang', 'untuk', 'terlibat', 'karena', 'jika', 'tidak', 'kami', 'akan', 'gagal', 'dalam', 'tugas', 'kami', 'untuk', 'mempertahankan', 'dan', 'membentuk', 'tatanan', 'internasional', 'ujarnya', 'jugachinasingapura', 'akan', 'gelar', 'latihan', 'militer', 'bersama', 'ini', 'armada', 'yang', 'dikerahkan', 'mengabaikan', 'tantangan', 'itu', 'tidak', 'akan', 'menjadi', 'tanda', 'kekuatan', 'tetapi', 'kelemahan', 'tambahnya']\n"
     ]
    }
   ],
   "source": [
    "# preview text (tokenized text)\n",
    "text_sample_token = text_tokenize(text_sample)\n",
    "print(text_sample_token)"
   ]
  },
  {
   "cell_type": "code",
   "execution_count": 22,
   "metadata": {},
   "outputs": [
    {
     "name": "stdout",
     "output_type": "stream",
     "text": [
      "['london', 'invasi', 'china', 'taiwan', 'menghancurkan', 'perdagangan', 'dunia', 'jarak', 'perlindungan', 'pukulan', 'dahsyat', 'terelakkan', 'ekonomi', 'global', 'menteri', 'negeri', 'inggris', 'james', 'cleverly', 'memperingatkan', 'pidato', 'hubungan', 'inggris', 'beijing', 'jugaperubahan', 'kebijakan', 'twitter', 'picu', 'lonjakan', 'propaganda', 'rusia', 'china', 'sambutan', 'berbeda', 'presiden', 'perancis', 'emmanuel', 'macron', 'menjauhkan', 'eropa', 'potensi', 'keterlibatan', 'as', 'konflik', 'taiwan', 'macron', 'mendukung', 'keberlanjutan', 'keterlibatan', 'dijaga', 'beijing', 'dilansir', 'cleverly', 'negara', 'melindungi', 'dampak', 'perang', 'taiwan', 'ngeri', 'memikirkan', 'kehancuran', 'finansial', 'manusia', 'mendesak', 'mengambil', 'tindakan', 'mengubah', 'status', 'quo', 'relevansi', 'taiwan', 'kepentingan', 'inggris', '“', 'kapal', 'kontainer', 'dunia', 'melewati', 'perairan', 'vital', 'selat', 'taiwan', 'sarat', 'barangbarang', 'eropa', 'penjuru', 'dunia', 'taiwan', 'negara', 'demokrasi', 'berkembang', 'mata', 'rantai', 'rantai', 'pasokan', 'global', 'semikonduktor', 'tingkat', 'jugapernyataan', 'dubes', 'china', 'bikin', 'heboh', 'eropa', 'diklarifikasi', 'china', 'akui', 'mewakili', 'tradisi', 'otoriter', 'kejam', 'bertentangan', 'tradisi', 'inggris', '“', 'memiliki', 'kewajiban', 'generasi', 'terlibat', 'gagal', 'tugas', 'mempertahankan', 'membentuk', 'tatanan', 'internasional', 'jugachinasingapura', 'gelar', 'latihan', 'militer', 'armada', 'dikerahkan', 'mengabaikan', 'tantangan', 'tanda', 'kekuatan', 'kelemahan']\n"
     ]
    }
   ],
   "source": [
    "# preview text (removed stopwords)\n",
    "text_sample_stop = text_stopwords(text_sample_token)\n",
    "print(text_sample_stop)"
   ]
  },
  {
   "cell_type": "code",
   "execution_count": 23,
   "metadata": {},
   "outputs": [
    {
     "name": "stdout",
     "output_type": "stream",
     "text": [
      "london invasi china taiwan hancur dagang dunia jarak lindung pukul dahsyat elak ekonomi global menteri negeri inggris james cleverly ingat pidato hubung inggris beijing jugaperubahan bijak twitter picu lonjak propaganda rusia china sambut beda presiden perancis emmanuel macron jauh eropa potensi libat as konflik taiwan macron dukung lanjut libat jaga beijing lansir cleverly negara lindung dampak perang taiwan ngeri pikir hancur finansial manusia desak ambil tindak ubah status quo relevansi taiwan penting inggris  kapal kontainer dunia lewat air vital selat taiwan sarat barangbarang eropa penjuru dunia taiwan negara demokrasi kembang mata rantai rantai pasok global semikonduktor tingkat jugapernyataan dubes china bikin heboh eropa klarifikasi china aku wakil tradisi otoriter kejam tentang tradisi inggris  milik wajib generasi libat gagal tugas tahan bentuk tatanan internasional jugachinasingapura gelar latih militer armada kerah abai tantang tanda kuat lemah\n"
     ]
    }
   ],
   "source": [
    "# preview text (stemming)\n",
    "text_sample_stem = text_stemming(text_sample_stop)\n",
    "print(text_sample_stem)"
   ]
  },
  {
   "cell_type": "code",
   "execution_count": 24,
   "metadata": {},
   "outputs": [],
   "source": [
    "# start loop through df to tokenize text\n",
    "news_token = []\n",
    "for i in df[\"news_article_html_clean\"]:\n",
    "    c_temp = text_casefold(i)\n",
    "    c_temp = text_tokenize(c_temp)\n",
    "    c_temp = text_stopwords(c_temp)\n",
    "    news_token.append(c_temp)"
   ]
  },
  {
   "cell_type": "code",
   "execution_count": 25,
   "metadata": {},
   "outputs": [],
   "source": [
    "# add new column to df to store tokenized article\n",
    "df[\"news_article_token\"] = news_token"
   ]
  },
  {
   "cell_type": "code",
   "execution_count": 26,
   "metadata": {},
   "outputs": [
    {
     "name": "stderr",
     "output_type": "stream",
     "text": [
      "100%|██████████| 415/415 [36:55<00:00,  5.34s/it]\n"
     ]
    }
   ],
   "source": [
    "# start loop through df to stem tokenized article\n",
    "news_stem = []\n",
    "for i in tqdm(df[\"news_article_token\"]):\n",
    "    s_temp = text_stemming(i)\n",
    "    news_stem.append(s_temp)"
   ]
  },
  {
   "cell_type": "code",
   "execution_count": 27,
   "metadata": {},
   "outputs": [],
   "source": [
    "# add new column to df to store stemmed article\n",
    "df[\"news_article_stem\"] = news_stem"
   ]
  },
  {
   "cell_type": "code",
   "execution_count": 28,
   "metadata": {},
   "outputs": [],
   "source": [
    "# filter relevant columns (drop raw article)\n",
    "res = df.drop(columns = [\"publish_date\", \"news_article_raw\", \"news_article_semi\"])"
   ]
  },
  {
   "cell_type": "code",
   "execution_count": 29,
   "metadata": {},
   "outputs": [
    {
     "data": {
      "text/html": [
       "<div>\n",
       "<style scoped>\n",
       "    .dataframe tbody tr th:only-of-type {\n",
       "        vertical-align: middle;\n",
       "    }\n",
       "\n",
       "    .dataframe tbody tr th {\n",
       "        vertical-align: top;\n",
       "    }\n",
       "\n",
       "    .dataframe thead th {\n",
       "        text-align: right;\n",
       "    }\n",
       "</style>\n",
       "<table border=\"1\" class=\"dataframe\">\n",
       "  <thead>\n",
       "    <tr style=\"text-align: right;\">\n",
       "      <th></th>\n",
       "      <th>author</th>\n",
       "      <th>publish_date_adj</th>\n",
       "      <th>news_article_html_clean</th>\n",
       "      <th>news_article_token</th>\n",
       "      <th>news_article_stem</th>\n",
       "    </tr>\n",
       "  </thead>\n",
       "  <tbody>\n",
       "    <tr>\n",
       "      <th>0</th>\n",
       "      <td>Tito Hilmawan Reditya</td>\n",
       "      <td>2023-04-26 18:15:00</td>\n",
       "      <td>LONDON, KOMPAS.com Invasi China ke Taiwan dise...</td>\n",
       "      <td>[london, invasi, china, taiwan, menghancurkan,...</td>\n",
       "      <td>london invasi china taiwan hancur dagang dunia...</td>\n",
       "    </tr>\n",
       "    <tr>\n",
       "      <th>1</th>\n",
       "      <td>Aditya Jaya Iswara</td>\n",
       "      <td>2023-04-26 17:35:00</td>\n",
       "      <td>BANGKOK, KOMPAS.com Polisi Thailand pada Selas...</td>\n",
       "      <td>[bangkok, polisi, thailand, selasa, menangkap,...</td>\n",
       "      <td>bangkok polisi thailand selasa tangkap istri p...</td>\n",
       "    </tr>\n",
       "    <tr>\n",
       "      <th>2</th>\n",
       "      <td>Danur Lambang Pristiandaru</td>\n",
       "      <td>2023-04-26 16:01:00</td>\n",
       "      <td>PRETORIA, KOMPAS.com – Presiden Afrika Selatan...</td>\n",
       "      <td>[pretoria, –, presiden, afrika, selatan, cyril...</td>\n",
       "      <td>pretoria  presiden afrika selatan cyril ramaph...</td>\n",
       "    </tr>\n",
       "    <tr>\n",
       "      <th>3</th>\n",
       "      <td>Aditya Jaya Iswara</td>\n",
       "      <td>2023-04-26 15:34:00</td>\n",
       "      <td>WELLINGTON, KOMPAS.com Mantan Perdana Menteri ...</td>\n",
       "      <td>[wellington, mantan, perdana, menteri, selandi...</td>\n",
       "      <td>wellington mantan perdana menteri selandia jac...</td>\n",
       "    </tr>\n",
       "    <tr>\n",
       "      <th>4</th>\n",
       "      <td>Aditya Jaya Iswara</td>\n",
       "      <td>2023-04-26 14:48:00</td>\n",
       "      <td>MOSKWA, KOMPAS.com Rusia mengganti KFC yang ke...</td>\n",
       "      <td>[moskwa, rusia, mengganti, kfc, invasi, negara...</td>\n",
       "      <td>moskwa rusia ganti kfc invasi negara ukraina p...</td>\n",
       "    </tr>\n",
       "  </tbody>\n",
       "</table>\n",
       "</div>"
      ],
      "text/plain": [
       "                       author    publish_date_adj  \\\n",
       "0       Tito Hilmawan Reditya 2023-04-26 18:15:00   \n",
       "1          Aditya Jaya Iswara 2023-04-26 17:35:00   \n",
       "2  Danur Lambang Pristiandaru 2023-04-26 16:01:00   \n",
       "3          Aditya Jaya Iswara 2023-04-26 15:34:00   \n",
       "4          Aditya Jaya Iswara 2023-04-26 14:48:00   \n",
       "\n",
       "                             news_article_html_clean  \\\n",
       "0  LONDON, KOMPAS.com Invasi China ke Taiwan dise...   \n",
       "1  BANGKOK, KOMPAS.com Polisi Thailand pada Selas...   \n",
       "2  PRETORIA, KOMPAS.com – Presiden Afrika Selatan...   \n",
       "3  WELLINGTON, KOMPAS.com Mantan Perdana Menteri ...   \n",
       "4  MOSKWA, KOMPAS.com Rusia mengganti KFC yang ke...   \n",
       "\n",
       "                                  news_article_token  \\\n",
       "0  [london, invasi, china, taiwan, menghancurkan,...   \n",
       "1  [bangkok, polisi, thailand, selasa, menangkap,...   \n",
       "2  [pretoria, –, presiden, afrika, selatan, cyril...   \n",
       "3  [wellington, mantan, perdana, menteri, selandi...   \n",
       "4  [moskwa, rusia, mengganti, kfc, invasi, negara...   \n",
       "\n",
       "                                   news_article_stem  \n",
       "0  london invasi china taiwan hancur dagang dunia...  \n",
       "1  bangkok polisi thailand selasa tangkap istri p...  \n",
       "2  pretoria  presiden afrika selatan cyril ramaph...  \n",
       "3  wellington mantan perdana menteri selandia jac...  \n",
       "4  moskwa rusia ganti kfc invasi negara ukraina p...  "
      ]
     },
     "execution_count": 29,
     "metadata": {},
     "output_type": "execute_result"
    }
   ],
   "source": [
    "# show result\n",
    "res.head()"
   ]
  },
  {
   "cell_type": "code",
   "execution_count": 30,
   "metadata": {},
   "outputs": [],
   "source": [
    "# pass to csv file\n",
    "res.to_csv(\"data/kompas_news_clean.csv\", index=0)"
   ]
  },
  {
   "cell_type": "markdown",
   "metadata": {},
   "source": [
    "> The data has been successfully exported, therefore it is time to move to the next section in other notebook."
   ]
  }
 ],
 "metadata": {
  "kernelspec": {
   "display_name": "Python 3",
   "language": "python",
   "name": "python3"
  },
  "language_info": {
   "codemirror_mode": {
    "name": "ipython",
    "version": 3
   },
   "file_extension": ".py",
   "mimetype": "text/x-python",
   "name": "python",
   "nbconvert_exporter": "python",
   "pygments_lexer": "ipython3",
   "version": "3.8.5"
  }
 },
 "nbformat": 4,
 "nbformat_minor": 4
}
